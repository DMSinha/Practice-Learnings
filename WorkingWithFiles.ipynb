{
 "cells": [
  {
   "cell_type": "code",
   "execution_count": 12,
   "id": "79cdff65-75b1-480d-a918-b876232a179f",
   "metadata": {},
   "outputs": [],
   "source": [
    "# This is to open file in write mode.\n",
    "f= open(\"test.txt\",'w')"
   ]
  },
  {
   "cell_type": "code",
   "execution_count": 2,
   "id": "72a89870-9d3c-4efd-b3b6-bc2734f2834e",
   "metadata": {},
   "outputs": [
    {
     "data": {
      "text/plain": [
       "'/home/jovyan/work'"
      ]
     },
     "execution_count": 2,
     "metadata": {},
     "output_type": "execute_result"
    }
   ],
   "source": [
    "# this to check current directory\n",
    "pwd\n"
   ]
  },
  {
   "cell_type": "code",
   "execution_count": 4,
   "id": "51caf520-b560-4a46-bc19-fa95b071a48a",
   "metadata": {},
   "outputs": [
    {
     "name": "stdout",
     "output_type": "stream",
     "text": [
      "Assignment1.ipynb  Assignment3.ipynb  sample-code.ipynb  WorkingWithFiles.ipynb\n",
      "Assignment2.ipynb  README.md          test.txt\n"
     ]
    }
   ],
   "source": [
    "# this is to check all the lists.\n",
    "ls\n"
   ]
  },
  {
   "cell_type": "code",
   "execution_count": 13,
   "id": "066473f7-249d-487c-abfe-30b816592dde",
   "metadata": {},
   "outputs": [
    {
     "data": {
      "text/plain": [
       "31"
      ]
     },
     "execution_count": 13,
     "metadata": {},
     "output_type": "execute_result"
    }
   ],
   "source": [
    "# this is to write data in file.\n",
    "f.write(\"This is my first file operation\")"
   ]
  },
  {
   "cell_type": "code",
   "execution_count": 14,
   "id": "19a0abcc-d740-469e-a7aa-67480caed5fd",
   "metadata": {},
   "outputs": [],
   "source": [
    "#To check if the data was written in file, file must be closed first\n",
    "f.close()"
   ]
  },
  {
   "cell_type": "code",
   "execution_count": 15,
   "id": "e81e6b5e-80d2-4a36-b015-b550a538d23d",
   "metadata": {},
   "outputs": [],
   "source": [
    "# This is to open file in append mode\n",
    "f= open(\"test2.txt\",'a')"
   ]
  },
  {
   "cell_type": "code",
   "execution_count": 17,
   "id": "caea390b-556b-4bc4-9ba4-7086158bafe0",
   "metadata": {},
   "outputs": [
    {
     "data": {
      "text/plain": [
       "31"
      ]
     },
     "execution_count": 17,
     "metadata": {},
     "output_type": "execute_result"
    }
   ],
   "source": [
    "# This is to write in file. Since file is opened in append mode, data will be appended\n",
    "f.write(\"This is my first file operation\")"
   ]
  },
  {
   "cell_type": "code",
   "execution_count": 18,
   "id": "e2373312-b6a0-40d5-bf0c-a54c01e973ca",
   "metadata": {},
   "outputs": [],
   "source": [
    "#This is to close th file opened above.\n",
    "f.close()"
   ]
  },
  {
   "cell_type": "code",
   "execution_count": 23,
   "id": "3808b1bc-e34e-40ce-b6b8-4f4ae297b140",
   "metadata": {},
   "outputs": [],
   "source": [
    "#This is to open the file in read mode.\n",
    "f= open(\"test2.txt\",'r')"
   ]
  },
  {
   "cell_type": "code",
   "execution_count": 24,
   "id": "baff95c3-0d68-4426-9488-8f4964ba6caa",
   "metadata": {},
   "outputs": [
    {
     "data": {
      "text/plain": [
       "'This is my first file operationThis is my first file operation'"
      ]
     },
     "execution_count": 24,
     "metadata": {},
     "output_type": "execute_result"
    }
   ],
   "source": [
    "#This is to read the file in read mode.\n",
    "f.read()"
   ]
  },
  {
   "cell_type": "code",
   "execution_count": 25,
   "id": "9c5355ed-fd0b-42a8-9a53-b9abda230bc7",
   "metadata": {},
   "outputs": [
    {
     "data": {
      "text/plain": [
       "''"
      ]
     },
     "execution_count": 25,
     "metadata": {},
     "output_type": "execute_result"
    }
   ],
   "source": [
    "#In the 2nd chance, when we have read the file, this will give blank, as the cursor is at the bottom.\"\n",
    "f.read()"
   ]
  },
  {
   "cell_type": "code",
   "execution_count": 27,
   "id": "62aee44f-908e-4b9a-b061-edef6d3fc067",
   "metadata": {},
   "outputs": [
    {
     "data": {
      "text/plain": [
       "0"
      ]
     },
     "execution_count": 27,
     "metadata": {},
     "output_type": "execute_result"
    }
   ],
   "source": [
    "#To over come this, we need to move cursor again.\n",
    "f.seek(0)"
   ]
  },
  {
   "cell_type": "code",
   "execution_count": 28,
   "id": "52038a35-8bc6-465c-b61c-550da969e468",
   "metadata": {},
   "outputs": [
    {
     "data": {
      "text/plain": [
       "'This is my first file operationThis is my first file operation'"
      ]
     },
     "execution_count": 28,
     "metadata": {},
     "output_type": "execute_result"
    }
   ],
   "source": [
    "#IAfter running seek() function.\"\n",
    "f.read()"
   ]
  },
  {
   "cell_type": "code",
   "execution_count": 29,
   "id": "5b967d42-4e9c-4b53-9198-a14f7af5b89e",
   "metadata": {},
   "outputs": [],
   "source": [
    "f= open(\"test2.txt\",'r')"
   ]
  },
  {
   "cell_type": "code",
   "execution_count": 30,
   "id": "815e7e84-9e17-4780-9ff6-7f3e769f6d62",
   "metadata": {},
   "outputs": [
    {
     "name": "stdout",
     "output_type": "stream",
     "text": [
      "This is my first file operationThis is my first file operation\n"
     ]
    }
   ],
   "source": [
    "#The Data Can also be read through for loop.\n",
    "for i in f:\n",
    "    print(i)"
   ]
  },
  {
   "cell_type": "code",
   "execution_count": 31,
   "id": "9c66acec-e522-4e3f-88d8-5c603cf8e709",
   "metadata": {},
   "outputs": [],
   "source": [
    "#to get file size, import os library\n",
    "import os"
   ]
  },
  {
   "cell_type": "code",
   "execution_count": 32,
   "id": "8d235763-b6e6-40d8-b594-2f508345a26a",
   "metadata": {},
   "outputs": [
    {
     "data": {
      "text/plain": [
       "62"
      ]
     },
     "execution_count": 32,
     "metadata": {},
     "output_type": "execute_result"
    }
   ],
   "source": [
    "os.path.getsize(\"test2.txt\")#Size in Bytes"
   ]
  },
  {
   "cell_type": "code",
   "execution_count": 33,
   "id": "70f19e24-cfa9-4820-a342-7e774e6bd8f3",
   "metadata": {},
   "outputs": [
    {
     "data": {
      "text/plain": [
       "31"
      ]
     },
     "execution_count": 33,
     "metadata": {},
     "output_type": "execute_result"
    }
   ],
   "source": [
    "os.path.getsize(\"test.txt\")#Size in Bytes"
   ]
  },
  {
   "cell_type": "code",
   "execution_count": 35,
   "id": "bdcac29c-6c51-466b-8436-fdbd356cd613",
   "metadata": {},
   "outputs": [],
   "source": [
    "#import shutil: to copy the file\n",
    "import shutil"
   ]
  },
  {
   "cell_type": "code",
   "execution_count": 37,
   "id": "c1f0f8e8-ca9a-4b23-8ed6-782e5a53e85e",
   "metadata": {},
   "outputs": [
    {
     "data": {
      "text/plain": [
       "'copy.txt'"
      ]
     },
     "execution_count": 37,
     "metadata": {},
     "output_type": "execute_result"
    }
   ],
   "source": [
    "#Copy of test.txt file is created\n",
    "shutil.copy(\"test.txt\",\"copy.txt\")"
   ]
  },
  {
   "cell_type": "code",
   "execution_count": 39,
   "id": "ae400764-53b6-443b-b688-6d903cc5b545",
   "metadata": {},
   "outputs": [],
   "source": [
    "#to delete a file, remove function from os library is called\n",
    "os.remove(\"test.txt\")"
   ]
  },
  {
   "cell_type": "code",
   "execution_count": 40,
   "id": "911768cc-a54b-49ed-989d-34b4134a7835",
   "metadata": {},
   "outputs": [
    {
     "name": "stdout",
     "output_type": "stream",
     "text": [
      "This is my first file operation\n"
     ]
    }
   ],
   "source": [
    "#2nd approach to open a file using \"With Open\"\n",
    "with open(\"copy.txt\",'r') as f:\n",
    "    print(f.read())\n",
    "    "
   ]
  },
  {
   "cell_type": "code",
   "execution_count": 41,
   "id": "9c1556f3-0a63-4a3b-8239-353cc56e7ef1",
   "metadata": {},
   "outputs": [],
   "source": [
    "#To Rename a file- Here \"copy.txt\" is changed to \"abc.txt\"\n",
    "os.rename(\"copy.txt\",\"abc.txt\")"
   ]
  },
  {
   "cell_type": "markdown",
   "id": "8ac44a5f-8e93-4fc6-8c72-0c4114e16d6d",
   "metadata": {},
   "source": [
    "Reading & Writing Files"
   ]
  },
  {
   "cell_type": "markdown",
   "id": "4f91570f-43eb-4e96-ab0b-57aeed80bdfc",
   "metadata": {},
   "source": [
    "</h2> Reading & Wrting in JSON File </h2>"
   ]
  },
  {
   "cell_type": "code",
   "execution_count": 48,
   "id": "55ddceca-b0b4-4365-a016-016a27abe529",
   "metadata": {},
   "outputs": [],
   "source": [
    "#dictionary variable, where data will be dumped to a file.\n",
    "data = {\"name\":\"Divya\", \"Email\": \"dms12\" , \"phone number\": \"7869122404\", \"subject\": [\"1\",\"2\",\"3\"] }"
   ]
  },
  {
   "cell_type": "code",
   "execution_count": 49,
   "id": "96a7da31-4ae7-4127-b9d5-b6254a5a23fc",
   "metadata": {},
   "outputs": [],
   "source": [
    "#import json library to write/read data to json file\n",
    "import json"
   ]
  },
  {
   "cell_type": "code",
   "execution_count": 50,
   "id": "865e5013-4f19-4ced-a073-2212c860295e",
   "metadata": {},
   "outputs": [],
   "source": [
    "#creating a json file , using write mode\n",
    "with open(\"test1.json\",\"w\") as f:\n",
    "    json.dump(data,f)"
   ]
  },
  {
   "cell_type": "code",
   "execution_count": 51,
   "id": "ffd5c4a8-5bf2-4e00-b28a-f70a9194095f",
   "metadata": {},
   "outputs": [],
   "source": [
    "#Reading a json file , using read mode\n",
    "with open(\"test1.json\",\"r\") as f:\n",
    "    data1=json.load(f)"
   ]
  },
  {
   "cell_type": "code",
   "execution_count": 52,
   "id": "aae318fe-d219-4bb1-b7f4-843d73494b2b",
   "metadata": {},
   "outputs": [
    {
     "data": {
      "text/plain": [
       "{'name': 'Divya',\n",
       " 'Email': 'dms12',\n",
       " 'phone number': '7869122404',\n",
       " 'subject': ['1', '2', '3']}"
      ]
     },
     "execution_count": 52,
     "metadata": {},
     "output_type": "execute_result"
    }
   ],
   "source": [
    "data1"
   ]
  },
  {
   "cell_type": "code",
   "execution_count": 55,
   "id": "66423406-0d78-49bd-9444-56213dc1c793",
   "metadata": {},
   "outputs": [
    {
     "data": {
      "text/plain": [
       "'2'"
      ]
     },
     "execution_count": 55,
     "metadata": {},
     "output_type": "execute_result"
    }
   ],
   "source": [
    "#reading value from dictionary at particular index\n",
    "data1['subject'][1]"
   ]
  },
  {
   "cell_type": "markdown",
   "id": "a8fea9de-2423-4a53-b475-f9257dd71203",
   "metadata": {},
   "source": [
    "<h12>Writing in CSV File</h2>"
   ]
  },
  {
   "cell_type": "code",
   "execution_count": 56,
   "id": "ba73db24-7518-4214-927f-d6a5b1177151",
   "metadata": {},
   "outputs": [],
   "source": [
    "#list inside list\n",
    "data = [['name','email','ID'],['Divya','dms12','1'],['Diva','dms23','2'],['Deepak','deep12','3']]"
   ]
  },
  {
   "cell_type": "code",
   "execution_count": 58,
   "id": "13474c8c-9100-4644-946a-672026fe7fcb",
   "metadata": {},
   "outputs": [],
   "source": [
    "#CSV library imported\n",
    "import csv"
   ]
  },
  {
   "cell_type": "code",
   "execution_count": 59,
   "id": "4a9ddf92-786f-44d9-875c-9fa54c411d22",
   "metadata": {},
   "outputs": [],
   "source": [
    "#Open test3.csv in write mode.\n",
    "with open(\"test3.csv\",'w') as f:\n",
    "    w= csv.writer(f)\n",
    "    #Here for loop isiterating the nested list variable- data which we created above\n",
    "    for i in data:\n",
    "        w.writerow(i)"
   ]
  },
  {
   "cell_type": "code",
   "execution_count": 61,
   "id": "0d3a848d-0487-4d6a-8833-9d85e551ab8b",
   "metadata": {},
   "outputs": [
    {
     "name": "stdout",
     "output_type": "stream",
     "text": [
      "['name', 'email', 'ID']\n",
      "['Divya', 'dms12', '1']\n",
      "['Diva', 'dms23', '2']\n",
      "['Deepak', 'deep12', '3']\n"
     ]
    }
   ],
   "source": [
    "#Reading test3.csv in read mode\n",
    "with open(\"test3.csv\",'r') as f:\n",
    "    r= csv.reader(f)\n",
    "    for i in r:\n",
    "        print(i)"
   ]
  },
  {
   "cell_type": "markdown",
   "id": "783b1492-80e1-4e2e-a79c-c7abd9c24680",
   "metadata": {},
   "source": [
    "Reading & Wrinting Binary Data\n",
    "Binary data is form of data - may be in images, videos or audio"
   ]
  },
  {
   "cell_type": "code",
   "execution_count": 62,
   "id": "75a48a98-b54d-4ac8-8841-4959bf744b55",
   "metadata": {},
   "outputs": [],
   "source": [
    "with open(\"test4.bin\",'wb') as f:\n",
    "    f.write(b\"\\x01\\x02\\x03\")\n",
    "    "
   ]
  },
  {
   "cell_type": "code",
   "execution_count": 63,
   "id": "64ca0658-ad7b-468c-ae89-72f584190e63",
   "metadata": {},
   "outputs": [
    {
     "name": "stdout",
     "output_type": "stream",
     "text": [
      "b'\\x01\\x02\\x03'\n"
     ]
    }
   ],
   "source": [
    "with open(\"test4.bin\",'rb') as f:\n",
    "    print(f.read())"
   ]
  },
  {
   "cell_type": "markdown",
   "id": "72717874-d028-46d9-a0e7-1954b9a45fd0",
   "metadata": {},
   "source": [
    "BUFFFERED READ & WRITE\n",
    "* When we have big file size in GBs or TBs. In those cases when we want to read file in chunks, bits or pieces. There in buffered read comes to picture."
   ]
  },
  {
   "cell_type": "code",
   "execution_count": 65,
   "id": "72059b0c-b3c9-4926-a2cb-305593140c35",
   "metadata": {},
   "outputs": [],
   "source": [
    "import io"
   ]
  },
  {
   "cell_type": "code",
   "execution_count": 67,
   "id": "95f09dad-2e2c-4795-9376-f5edaf77c4b6",
   "metadata": {},
   "outputs": [],
   "source": [
    "with open(\"test.txt\",'wb') as f:\n",
    "    file = io.BufferedWriter(f)\n",
    "    file.write(b\"This is my buffer write \\n\")\n",
    "    file.write(b\"This is my Second write \\n\")\n",
    "    file.flush()"
   ]
  },
  {
   "cell_type": "code",
   "execution_count": 68,
   "id": "833a3d0d-421d-4210-afad-2b6d3ed17ce4",
   "metadata": {},
   "outputs": [
    {
     "name": "stdout",
     "output_type": "stream",
     "text": [
      "b'T'\n"
     ]
    }
   ],
   "source": [
    "#Chunk Of Data Can Be Read\n",
    "with open(\"test.txt\",'rb') as f:\n",
    "    file = io.BufferedReader(f)\n",
    "    data=file.read(1)\n",
    "    print(data)\n",
    "    "
   ]
  },
  {
   "cell_type": "code",
   "execution_count": 69,
   "id": "58584433-e8ce-4617-a4fb-886ba4739e68",
   "metadata": {},
   "outputs": [
    {
     "name": "stdout",
     "output_type": "stream",
     "text": [
      "b'Th'\n"
     ]
    }
   ],
   "source": [
    "#Chunk of data can be read\n",
    "with open(\"test.txt\",'rb') as f:\n",
    "    file = io.BufferedReader(f)\n",
    "    data=file.read(2)\n",
    "    print(data)"
   ]
  },
  {
   "cell_type": "markdown",
   "id": "f0be8fae-cc44-4315-8a78-baf36cbf3a47",
   "metadata": {},
   "source": [
    "LOGGING & DEBUGGER"
   ]
  },
  {
   "cell_type": "code",
   "execution_count": 70,
   "id": "8e2ee547-fa06-42f9-9860-1a832063c4bd",
   "metadata": {},
   "outputs": [],
   "source": [
    "import logging"
   ]
  },
  {
   "cell_type": "code",
   "execution_count": 71,
   "id": "f4e2fcf4-1072-4a01-8c4d-d17e2052ade4",
   "metadata": {},
   "outputs": [],
   "source": [
    "logging.basicConfig(filename = 'test.log', level= logging.INFO)"
   ]
  },
  {
   "cell_type": "code",
   "execution_count": 73,
   "id": "74b433c9-1a2a-4955-8150-7a21de715287",
   "metadata": {},
   "outputs": [],
   "source": [
    "logging.info(\"This is my line of execution\")"
   ]
  },
  {
   "cell_type": "code",
   "execution_count": 74,
   "id": "7ecdc04f-c50d-423e-a456-677916350750",
   "metadata": {},
   "outputs": [],
   "source": [
    "logging.error(\"This is my error\")"
   ]
  },
  {
   "cell_type": "code",
   "execution_count": 76,
   "id": "8a63ac70-b132-4f74-b8fd-5fa3c4316e60",
   "metadata": {},
   "outputs": [],
   "source": [
    "logging.critical(\"This is my critical\")"
   ]
  },
  {
   "cell_type": "code",
   "execution_count": 77,
   "id": "67a7be44-6bd9-4b9a-918c-e56dca7f5cb8",
   "metadata": {},
   "outputs": [],
   "source": [
    "logging.warning(\"This is my warning\")"
   ]
  },
  {
   "cell_type": "markdown",
   "id": "ca4200fd-c12d-4e22-9fc4-d255757e33f3",
   "metadata": {},
   "source": [
    "Hierarchy of Logging\n",
    "1. NOSET\n",
    "2. DEBUG\n",
    "3. INFO\n",
    "4. WARNING\n",
    "5. ERROR\n",
    "6. CRITICAL\n",
    "\n",
    "So, when level= logging.INFO, it will be able to log anything below INFO. i.e INFO,WARNING,ERROR,CRTICAL"
   ]
  },
  {
   "cell_type": "code",
   "execution_count": 79,
   "id": "e93fe254-97fb-4d66-8a1c-a5e88e3b9891",
   "metadata": {},
   "outputs": [],
   "source": [
    "#when logging leve is set to INFO, no logging can be done at DEBUG & NOSET\n",
    "logging.debug(\"This is Debug\")"
   ]
  },
  {
   "cell_type": "code",
   "execution_count": 114,
   "id": "e4a88f26-c0d7-4402-9dc1-748e314555df",
   "metadata": {},
   "outputs": [],
   "source": [
    "#Logging ShutDown: to shut down this logging\n",
    "logging.shutdown()"
   ]
  },
  {
   "cell_type": "code",
   "execution_count": 115,
   "id": "f47f7d14-6696-4adf-b131-a1ca68ddae53",
   "metadata": {},
   "outputs": [],
   "source": [
    "logging.basicConfig(filename= \"test2.log\", level = logging.DEBUG , format= '%(asctime)s %(message)s')"
   ]
  },
  {
   "cell_type": "code",
   "execution_count": 116,
   "id": "82a6823a-aa42-4935-9307-3602d0648b4e",
   "metadata": {},
   "outputs": [],
   "source": [
    "logging.info(\"this is my info\")"
   ]
  },
  {
   "cell_type": "code",
   "execution_count": 117,
   "id": "42256d28-ee2c-43f7-80a1-ccbce204d15a",
   "metadata": {},
   "outputs": [],
   "source": [
    "logging.debug(\"this is my debug\")"
   ]
  },
  {
   "cell_type": "code",
   "execution_count": 118,
   "id": "865bbd9c-9ab5-4fa6-a7b6-b170861c2c88",
   "metadata": {},
   "outputs": [],
   "source": [
    "logging.warning(\"this is my warning\")"
   ]
  },
  {
   "cell_type": "code",
   "execution_count": 122,
   "id": "186767f0-43c1-48ca-ba71-2a68aab603b0",
   "metadata": {},
   "outputs": [],
   "source": [
    "#Logging ShutDown: to shut down this logging\n",
    "logging.shutdown()"
   ]
  },
  {
   "cell_type": "code",
   "execution_count": 134,
   "id": "896f252a-411d-4e0e-a203-e3715cdd223f",
   "metadata": {},
   "outputs": [],
   "source": [
    "logging.basicConfig(filename = 'test.log', level= logging.INFO)"
   ]
  },
  {
   "cell_type": "code",
   "execution_count": 126,
   "id": "5583dcb6-9920-4337-94c3-c5a40550be35",
   "metadata": {},
   "outputs": [],
   "source": [
    "#Segregate Integer & STring value in list to two separate list\n",
    "l=[1,2,3,[12,23,24],\"Diva\",\"Deepak\",\"Mumma\"]"
   ]
  },
  {
   "cell_type": "code",
   "execution_count": 135,
   "id": "bf225290-1d4c-44ad-ab18-fdfeba8fe8d9",
   "metadata": {},
   "outputs": [],
   "source": [
    "l1=[]\n",
    "l2=[]\n",
    "for i in l:\n",
    "    logging.info(\"this is my for loop\")\n",
    "    if type(i) == list:\n",
    "        for j in i:\n",
    "            if type(j)==int:\n",
    "                l1.append(j)\n",
    "    elif type(i) == int:\n",
    "        l1.append(i)\n",
    "    else:\n",
    "        l2.append(i)\n",
    "                \n",
    "                \n",
    "            \n",
    "        \n"
   ]
  },
  {
   "cell_type": "code",
   "execution_count": 128,
   "id": "f7d67079-8de2-4903-9c55-5de21bb80958",
   "metadata": {},
   "outputs": [
    {
     "data": {
      "text/plain": [
       "[1, 2, 3, 12, 23, 24]"
      ]
     },
     "execution_count": 128,
     "metadata": {},
     "output_type": "execute_result"
    }
   ],
   "source": [
    "l1"
   ]
  },
  {
   "cell_type": "code",
   "execution_count": 129,
   "id": "b675690b-dc58-412a-855c-534672249fb4",
   "metadata": {},
   "outputs": [
    {
     "data": {
      "text/plain": [
       "['Diva', 'Deepak', 'Mumma']"
      ]
     },
     "execution_count": 129,
     "metadata": {},
     "output_type": "execute_result"
    }
   ],
   "source": [
    "l2"
   ]
  },
  {
   "cell_type": "code",
   "execution_count": null,
   "id": "a00e6c99-0c7a-4dbc-9a35-21304eaa3fbc",
   "metadata": {},
   "outputs": [],
   "source": []
  }
 ],
 "metadata": {
  "kernelspec": {
   "display_name": "Python 3 (ipykernel)",
   "language": "python",
   "name": "python3"
  },
  "language_info": {
   "codemirror_mode": {
    "name": "ipython",
    "version": 3
   },
   "file_extension": ".py",
   "mimetype": "text/x-python",
   "name": "python",
   "nbconvert_exporter": "python",
   "pygments_lexer": "ipython3",
   "version": "3.10.8"
  }
 },
 "nbformat": 4,
 "nbformat_minor": 5
}
