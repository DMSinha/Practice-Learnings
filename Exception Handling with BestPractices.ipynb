{
 "cells": [
  {
   "cell_type": "code",
   "execution_count": 2,
   "id": "b043435b-d006-4ffc-88b2-9c916bf182fa",
   "metadata": {},
   "outputs": [
    {
     "name": "stdout",
     "output_type": "stream",
     "text": [
      "There is some problem with my code [Errno 2] No such file or directory: 'Divya.txt'\n",
      "A\n"
     ]
    }
   ],
   "source": [
    "#Handling Exception using try & except block\n",
    "#Whenever there is any error in try block, it get thrown to except block\n",
    "#Also anything coming post except block will be executed\n",
    "try:\n",
    "    f= open(\"Divya.txt\",'r')\n",
    "except Exception as e:\n",
    "    print(\"There is some problem with my code\", e)\n",
    "\n",
    "print(\"A\")"
   ]
  },
  {
   "cell_type": "code",
   "execution_count": 4,
   "id": "754c3f4a-068a-4ac5-8201-4635f7e0c38f",
   "metadata": {},
   "outputs": [
    {
     "name": "stdout",
     "output_type": "stream",
     "text": [
      "A\n"
     ]
    }
   ],
   "source": [
    "#### Try & Except\n",
    "try:\n",
    "    f=open(\"test.txt\",'w')\n",
    "    f.write(\"Go Goa Gone\")\n",
    "    f.close()\n",
    "except Exception as e:\n",
    "    print(\"There is one error\",e)\n",
    "\n",
    "print(\"A\")"
   ]
  },
  {
   "cell_type": "code",
   "execution_count": 8,
   "id": "3281238d-6776-411f-8e02-c878111c096e",
   "metadata": {},
   "outputs": [
    {
     "name": "stdout",
     "output_type": "stream",
     "text": [
      "This block will be executed once try block has exceuted Successfully\n",
      "A\n"
     ]
    }
   ],
   "source": [
    "## Try & ELSE\n",
    "try:\n",
    "    f=open(\"test.txt\",'w')\n",
    "    f.write(\"Go Goa Gone\")\n",
    "    \n",
    "except Exception as e:\n",
    "    print(\"There is one error\",e)\n",
    "else:\n",
    "    f.close()\n",
    "    print(\"This block will be executed once try block has exceuted Successfully\")\n",
    "\n",
    "print(\"A\")"
   ]
  },
  {
   "cell_type": "code",
   "execution_count": 12,
   "id": "539568f8-d703-480f-bc3a-9ff32d02aa9b",
   "metadata": {},
   "outputs": [
    {
     "name": "stdout",
     "output_type": "stream",
     "text": [
      "There is one error not writable\n",
      "This will execute in all cases\n"
     ]
    }
   ],
   "source": [
    "#Finally block will exceute even if there is no error\n",
    "try:\n",
    "    f=open(\"test.txt\",'r')\n",
    "    f.write(\"Go Goa Gone\")\n",
    "    print(\"Try Block\")\n",
    "except Exception as e:\n",
    "    print(\"There is one error\",e)\n",
    "finally:\n",
    "    print(\"This will execute in all cases\")"
   ]
  },
  {
   "cell_type": "markdown",
   "id": "8ea9b3d9-8ca2-4a9d-99c5-b2e54350106d",
   "metadata": {},
   "source": [
    "CUSTOM EXCPETION HANDLING"
   ]
  },
  {
   "cell_type": "code",
   "execution_count": 13,
   "id": "756a0b9f-439d-45a2-b9ca-907a185fba23",
   "metadata": {},
   "outputs": [
    {
     "name": "stdin",
     "output_type": "stream",
     "text": [
      "Enter Your Age -12\n"
     ]
    }
   ],
   "source": [
    "age = int(input(\"Enter Your Age\"))\n"
   ]
  },
  {
   "cell_type": "markdown",
   "id": "0d308a5f-c1a3-420b-b8c1-c46478a42967",
   "metadata": {},
   "source": [
    "Here in the Age cannot be negative, however system does not differentiate it with integer. So, we need to do custom exception handling to meet our sentiment. "
   ]
  },
  {
   "cell_type": "code",
   "execution_count": 16,
   "id": "78b6e4eb-a030-4bb7-82d6-067c041c76d0",
   "metadata": {},
   "outputs": [],
   "source": [
    "# Create a Class to handle custom exception & inherit the Excpetion Class\n",
    "class validateage(Exception):\n",
    "    #Constructor to print message\n",
    "    def __init__(self,msg):\n",
    "        self.msg = msg\n",
    "        \n",
    "    \n"
   ]
  },
  {
   "cell_type": "code",
   "execution_count": 17,
   "id": "361b58f9-4492-49fd-abf7-18c2a67cc698",
   "metadata": {},
   "outputs": [],
   "source": [
    "#Create own FUnction- this function will be taking age as input\n",
    "def validate_age(age):\n",
    "    if age < 0:\n",
    "        raise validateage(\"age should not be lesser than zero\") #raise is a reserved keyword which will call your customclass\n",
    "    elif age > 200:\n",
    "        raise validateage(\"age is too high\") \n",
    "    else:\n",
    "        print(\"age is valid\")"
   ]
  },
  {
   "cell_type": "code",
   "execution_count": 18,
   "id": "9c6b8cff-6ee6-4f90-8a01-2b15fb67d909",
   "metadata": {},
   "outputs": [
    {
     "name": "stdin",
     "output_type": "stream",
     "text": [
      "Enter Your age -23\n"
     ]
    },
    {
     "name": "stdout",
     "output_type": "stream",
     "text": [
      "age should not be lesser than zero\n"
     ]
    }
   ],
   "source": [
    "try:\n",
    "    age = int(input(\"Enter Your age\"))\n",
    "    validate_age(age)\n",
    "except validateage as e:\n",
    "    print(e)"
   ]
  },
  {
   "cell_type": "markdown",
   "id": "000d1f4e-c64a-4656-9847-ea362a3b401d",
   "metadata": {},
   "source": [
    "LIST OF GENERAL EXCEPTIONS\n",
    "1. ZeroDivisionError\n",
    "2. IndexError\n",
    "3. TypeError\n",
    "4. ValueError\n",
    "5. KeyError\n"
   ]
  },
  {
   "cell_type": "code",
   "execution_count": 20,
   "id": "44d11be1-ca70-41a8-a639-fbfda3f85397",
   "metadata": {},
   "outputs": [
    {
     "name": "stdout",
     "output_type": "stream",
     "text": [
      "division by zero\n"
     ]
    }
   ],
   "source": [
    "#ZeroDivisionError\n",
    "try:\n",
    "    a=10\n",
    "    10/0\n",
    "except ZeroDivisionError as e:\n",
    "    print(e)\n",
    "    \n"
   ]
  },
  {
   "cell_type": "code",
   "execution_count": 21,
   "id": "d3351c04-1d3a-4e42-af77-c5fd52fecb42",
   "metadata": {},
   "outputs": [
    {
     "name": "stdout",
     "output_type": "stream",
     "text": [
      "invalid literal for int() with base 10: 'sydh'\n"
     ]
    }
   ],
   "source": [
    "#Value Error  or Type Error when trype casting string to integer\n",
    "try:\n",
    "    int(\"sydh\")\n",
    "except (ValueError, TypeError) as e:\n",
    "    print(e)"
   ]
  },
  {
   "cell_type": "code",
   "execution_count": 22,
   "id": "0e0a4b4d-1798-4c6b-b892-33b0eba367a7",
   "metadata": {},
   "outputs": [
    {
     "name": "stdout",
     "output_type": "stream",
     "text": [
      "No module named 'Divya'\n"
     ]
    }
   ],
   "source": [
    "#Import Error when any module which do not exost and is called\n",
    "try:\n",
    "    import Divya\n",
    "except ImportError as e:\n",
    "    print(e)"
   ]
  },
  {
   "cell_type": "code",
   "execution_count": 23,
   "id": "a1f73957-d664-4f75-af32-f01c9f71e705",
   "metadata": {},
   "outputs": [
    {
     "name": "stdout",
     "output_type": "stream",
     "text": [
      "'key10'\n"
     ]
    }
   ],
   "source": [
    "#KeyError for dictionary\n",
    "try:\n",
    "    dict= {1: [1,2,3,4], \"Key\": \"Value\"}\n",
    "    dict[\"key10\"]\n",
    "except KeyError as e:\n",
    "    print(e)"
   ]
  },
  {
   "cell_type": "code",
   "execution_count": 25,
   "id": "8bc014c7-e8d2-4ab1-a805-d38310b301b2",
   "metadata": {},
   "outputs": [
    {
     "name": "stdout",
     "output_type": "stream",
     "text": [
      "'str' object has no attribute 'test'\n"
     ]
    }
   ],
   "source": [
    "#Attribute Error\n",
    "try:\n",
    "    \"sudh\".test()\n",
    "except AttributeError as e:\n",
    "    print(e)"
   ]
  },
  {
   "cell_type": "code",
   "execution_count": 26,
   "id": "32ddf34f-6042-4ec5-be7e-577ae9fcc565",
   "metadata": {},
   "outputs": [
    {
     "name": "stdout",
     "output_type": "stream",
     "text": [
      "list index out of range\n"
     ]
    }
   ],
   "source": [
    "#Index Out Of Range\n",
    "try:\n",
    "    list1=[1,2,3,4]\n",
    "    list1[10]\n",
    "except IndexError as e:\n",
    "    print(e)\n"
   ]
  },
  {
   "cell_type": "code",
   "execution_count": 27,
   "id": "58e7064e-30ef-417e-8d53-9ef6759cfc80",
   "metadata": {},
   "outputs": [
    {
     "name": "stdout",
     "output_type": "stream",
     "text": [
      "unsupported operand type(s) for +: 'int' and 'str'\n"
     ]
    }
   ],
   "source": [
    "#Type Error\n",
    "try:\n",
    "    123 + \"Divya\"\n",
    "except TypeError as e:\n",
    "    print(e)\n"
   ]
  },
  {
   "cell_type": "code",
   "execution_count": 32,
   "id": "4583b2d9-56a4-45d3-8b48-2601b8ccb1ff",
   "metadata": {},
   "outputs": [
    {
     "name": "stdout",
     "output_type": "stream",
     "text": [
      "File Not Found Error [Errno 2] No such file or directory: 'test234.txt'\n"
     ]
    }
   ],
   "source": [
    "#FileNotFoundError\n",
    "try:\n",
    "    with open(\"test234.txt\", 'r') as f:\n",
    "        f.read()\n",
    "except FileNotFoundError as e:\n",
    "        print(\"File Not Found Error\",e)\n",
    "    "
   ]
  },
  {
   "cell_type": "code",
   "execution_count": 35,
   "id": "7a3e1ba7-0c1d-4046-bf67-6564a9d8e560",
   "metadata": {},
   "outputs": [
    {
     "name": "stdout",
     "output_type": "stream",
     "text": [
      "test [Errno 2] No such file or directory: 'test234.txt'\n"
     ]
    }
   ],
   "source": [
    "#FileNotFoundError\n",
    "try:\n",
    "    with open(\"test234.txt\", 'r') as f:\n",
    "        f.read()\n",
    "except Exception as e:# This is a super Exception Class and should never be writted in the the first place\n",
    "        print(\"test\",e)\n",
    "except FileNotFoundError as e:\n",
    "        print(\"File Not Found Error\",e)\n",
    "    "
   ]
  },
  {
   "cell_type": "code",
   "execution_count": 38,
   "id": "9b998bb3-bcec-4b7c-bbd4-03fc6205e9d2",
   "metadata": {},
   "outputs": [],
   "source": [
    "#FileNotFoundError\n",
    "def test(file):\n",
    "    try:\n",
    "        with open(\"test234.txt\", 'r') as f:\n",
    "            f.read()\n",
    "    except Exception as e:# This is a super Exception Class and should never be writted in the the first place\n",
    "        print(\"test\",e)\n",
    "    except FileNotFoundError as e:\n",
    "        print(\"File Not Found Error\",e)\n",
    "    "
   ]
  },
  {
   "cell_type": "markdown",
   "id": "104ba578-8d6e-4ea0-9c63-38983ca5d8e2",
   "metadata": {},
   "source": [
    "BEST PRACTICE IN EXCEPTION HANDLING\n"
   ]
  },
  {
   "cell_type": "code",
   "execution_count": 39,
   "id": "1e00173f-c5c4-4063-bb41-8e78dd162395",
   "metadata": {},
   "outputs": [
    {
     "name": "stdout",
     "output_type": "stream",
     "text": [
      "division by zero\n"
     ]
    }
   ],
   "source": [
    "#Use Always Specific Exception \n",
    "try:\n",
    "    10/0\n",
    "except Exception as e:# Using Super Exception class is not a good practice. Must refer to Specific Exception Class\n",
    "    print(e)\n",
    "    \n",
    "#here as best practice ZeroDivisionError needs to be used instead of SuperClass"
   ]
  },
  {
   "cell_type": "code",
   "execution_count": 40,
   "id": "10d06921-fc99-4c05-b55b-05c1647434a6",
   "metadata": {},
   "outputs": [
    {
     "name": "stdout",
     "output_type": "stream",
     "text": [
      "This is Zero Division Error division by zero\n"
     ]
    }
   ],
   "source": [
    "#Print always a valid message\n",
    "try:\n",
    "    10/0\n",
    "except ZeroDivisionError as e:\n",
    "    print(\"This is Zero Division Error\",e)"
   ]
  },
  {
   "cell_type": "code",
   "execution_count": 42,
   "id": "a9017462-2340-4ed3-b52c-3fa655c5c29e",
   "metadata": {},
   "outputs": [],
   "source": [
    "#Always try to log\n",
    "import logging\n",
    "logging.basicConfig(filename=\"error.log\", level = logging.ERROR)\n",
    "try:\n",
    "    10/0\n",
    "except ZeroDivisionError as e:\n",
    "    logging.error(\"This is Zero Division Error {}\".format(e))"
   ]
  },
  {
   "cell_type": "code",
   "execution_count": 44,
   "id": "13f49625-6045-4179-88d5-d64513732af5",
   "metadata": {},
   "outputs": [],
   "source": [
    "#Always avoid writing multiple exception handling\n",
    "#Though code will not give error, but its not good practice\n",
    "try:\n",
    "    10/0\n",
    "except ValueError as e:\n",
    "    logging.error(\"This is Value Error {}\".format(e))#Unnecsaary of use\n",
    "except TypeError as e:\n",
    "    logging.error(\"This is Type Error {}\".format(e))#Unnecessary use\n",
    "except ZeroDivisionError as e:\n",
    "    logging.error(\"This is Zero Division Error {}\".format(e))"
   ]
  },
  {
   "cell_type": "code",
   "execution_count": null,
   "id": "8777f5a8-91c3-4e6d-8639-5cd78e2c1e8d",
   "metadata": {},
   "outputs": [],
   "source": [
    "#Prepare proper documentation\n",
    "#Proper Package definitions\n",
    "#CleanUp All the Resourcess"
   ]
  },
  {
   "cell_type": "code",
   "execution_count": 47,
   "id": "9e199be9-44ed-4f7b-bf7d-eed835b4bc24",
   "metadata": {},
   "outputs": [],
   "source": [
    "#CleanUp\n",
    "#FileNotFoundError\n",
    "try:\n",
    "    with open(\"test.txt\", 'r') as f:\n",
    "        f.read()\n",
    "except FileNotFoundError as e:\n",
    "        print(\"File Not Found Error\",e)\n",
    "finally:\n",
    "    f.close()# this is a must do acitivity to release the resources used"
   ]
  },
  {
   "cell_type": "code",
   "execution_count": null,
   "id": "0837a17c-f5b5-4fda-888a-29cdeb52be98",
   "metadata": {},
   "outputs": [],
   "source": []
  }
 ],
 "metadata": {
  "kernelspec": {
   "display_name": "Python 3 (ipykernel)",
   "language": "python",
   "name": "python3"
  },
  "language_info": {
   "codemirror_mode": {
    "name": "ipython",
    "version": 3
   },
   "file_extension": ".py",
   "mimetype": "text/x-python",
   "name": "python",
   "nbconvert_exporter": "python",
   "pygments_lexer": "ipython3",
   "version": "3.10.8"
  }
 },
 "nbformat": 4,
 "nbformat_minor": 5
}
