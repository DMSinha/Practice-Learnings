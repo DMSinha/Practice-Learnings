{
 "cells": [
  {
   "cell_type": "code",
   "execution_count": 1,
   "id": "c62c90c8-9787-4bd8-88c7-e50d05cf54a3",
   "metadata": {},
   "outputs": [],
   "source": [
    "import threading"
   ]
  },
  {
   "cell_type": "code",
   "execution_count": 5,
   "id": "41a890ad-a01a-4aa0-9a8a-4d347bc0a5db",
   "metadata": {},
   "outputs": [],
   "source": [
    "def test(id):\n",
    "    print(\"This is my ID %d\" % id)"
   ]
  },
  {
   "cell_type": "code",
   "execution_count": 6,
   "id": "a3ac92e5-e8c4-41dd-85a3-38b6b0b74834",
   "metadata": {},
   "outputs": [
    {
     "name": "stdout",
     "output_type": "stream",
     "text": [
      "This is my ID 10\n"
     ]
    }
   ],
   "source": [
    "test(10)"
   ]
  },
  {
   "cell_type": "code",
   "execution_count": 7,
   "id": "5bfca49d-b8cd-4c26-8e78-47fe05982268",
   "metadata": {},
   "outputs": [
    {
     "name": "stdout",
     "output_type": "stream",
     "text": [
      "This is my ID 19\n"
     ]
    }
   ],
   "source": [
    "test(19)"
   ]
  },
  {
   "cell_type": "code",
   "execution_count": 8,
   "id": "cde284c4-6a68-4702-ab0c-db0a2cb00f96",
   "metadata": {},
   "outputs": [
    {
     "name": "stdout",
     "output_type": "stream",
     "text": [
      "This is my ID 20\n"
     ]
    }
   ],
   "source": [
    "test(20)"
   ]
  },
  {
   "cell_type": "code",
   "execution_count": 10,
   "id": "900d1e0e-7f3e-4195-ad05-fdf189e951d3",
   "metadata": {},
   "outputs": [],
   "source": [
    "#Hpw we call all three functions simulatneiously in automatic order- through thread\n",
    "thred = [threading.Thread(target=test, args = (i,)) for i in [10,1,3]]"
   ]
  },
  {
   "cell_type": "code",
   "execution_count": 11,
   "id": "dae64056-3337-4cfe-be47-058c637f3690",
   "metadata": {},
   "outputs": [
    {
     "data": {
      "text/plain": [
       "[<Thread(Thread-5 (test), initial)>,\n",
       " <Thread(Thread-6 (test), initial)>,\n",
       " <Thread(Thread-7 (test), initial)>]"
      ]
     },
     "execution_count": 11,
     "metadata": {},
     "output_type": "execute_result"
    }
   ],
   "source": [
    "thred\n"
   ]
  },
  {
   "cell_type": "code",
   "execution_count": 12,
   "id": "12d6502a-7856-41c0-8820-b6cefcda6f77",
   "metadata": {},
   "outputs": [
    {
     "name": "stdout",
     "output_type": "stream",
     "text": [
      "This is my ID 10\n",
      "This is my ID 1\n",
      "This is my ID 3\n"
     ]
    }
   ],
   "source": [
    "for t in thred:\n",
    "    t.start()\n",
    "    "
   ]
  },
  {
   "cell_type": "code",
   "execution_count": 13,
   "id": "081488fa-9c0a-4d1d-9925-b4391d08a7e2",
   "metadata": {},
   "outputs": [],
   "source": [
    "import time"
   ]
  },
  {
   "cell_type": "code",
   "execution_count": 21,
   "id": "54f351b0-a128-4dcd-982b-71dcc54cf8c3",
   "metadata": {},
   "outputs": [],
   "source": [
    "def test2(x):\n",
    "    for i in range(10):\n",
    "        print(\"tes1 print the value of x %d and print the value of i %d \" %(x,i))"
   ]
  },
  {
   "cell_type": "code",
   "execution_count": 22,
   "id": "545c8de6-347f-4d23-8e32-b6d42ac1b2f2",
   "metadata": {},
   "outputs": [
    {
     "name": "stdout",
     "output_type": "stream",
     "text": [
      "tes1 print the value of x 9 and print the value of i 0 \n",
      "tes1 print the value of x 9 and print the value of i 1 \n",
      "tes1 print the value of x 9 and print the value of i 2 \n",
      "tes1 print the value of x 9 and print the value of i 3 \n",
      "tes1 print the value of x 9 and print the value of i 4 \n",
      "tes1 print the value of x 9 and print the value of i 5 \n",
      "tes1 print the value of x 9 and print the value of i 6 \n",
      "tes1 print the value of x 9 and print the value of i 7 \n",
      "tes1 print the value of x 9 and print the value of i 8 \n",
      "tes1 print the value of x 9 and print the value of i 9 \n"
     ]
    }
   ],
   "source": [
    "test2(9)"
   ]
  },
  {
   "cell_type": "code",
   "execution_count": 24,
   "id": "fe701b70-0f3b-4171-b3ce-568d38c023ea",
   "metadata": {},
   "outputs": [
    {
     "name": "stdout",
     "output_type": "stream",
     "text": [
      "tes1 print the value of x 5 and print the value of i 0 \n",
      "tes1 print the value of x 5 and print the value of i 1 \n",
      "tes1 print the value of x 5 and print the value of i 2 \n",
      "tes1 print the value of x 5 and print the value of i 3 \n",
      "tes1 print the value of x 5 and print the value of i 4 \n",
      "tes1 print the value of x 5 and print the value of i 5 \n",
      "tes1 print the value of x 5 and print the value of i 6 \n",
      "tes1 print the value of x 5 and print the value of i 7 \n",
      "tes1 print the value of x 5 and print the value of i 8 \n",
      "tes1 print the value of x 5 and print the value of i 9 \n"
     ]
    }
   ],
   "source": [
    "test2(5)"
   ]
  },
  {
   "cell_type": "code",
   "execution_count": 28,
   "id": "361be911-fc3b-4b28-9217-5483d7a9428a",
   "metadata": {},
   "outputs": [],
   "source": [
    "def test2(x):\n",
    "    for i in range(10):\n",
    "        print(\"tes1 print the value of x %d and print the value of i %d \" %(x,i))\n",
    "        time.sleep(1) # if time.sleep will not be used, each input will exceuted once completely & next time other input will be picked."
   ]
  },
  {
   "cell_type": "code",
   "execution_count": 29,
   "id": "a2fac994-c3b3-45d2-8ee7-7dcac75befd3",
   "metadata": {},
   "outputs": [],
   "source": [
    "thread2 = [threading.Thread(target=test2, args=(i,)) for i in [100,10,20,5]]"
   ]
  },
  {
   "cell_type": "code",
   "execution_count": 30,
   "id": "b5ae6d8c-0779-4582-9fe1-b962faca3f0e",
   "metadata": {},
   "outputs": [
    {
     "name": "stdout",
     "output_type": "stream",
     "text": [
      "tes1 print the value of x 100 and print the value of i 0 \n",
      "tes1 print the value of x 10 and print the value of i 0 \n",
      "tes1 print the value of x 20 and print the value of i 0 \n",
      "tes1 print the value of x 5 and print the value of i 0 \n",
      "tes1 print the value of x 100 and print the value of i 1 \n",
      "tes1 print the value of x 10 and print the value of i 1 \n",
      "tes1 print the value of x 20 and print the value of i 1 \n",
      "tes1 print the value of x 5 and print the value of i 1 \n",
      "tes1 print the value of x 100 and print the value of i 2 \n",
      "tes1 print the value of x 10 and print the value of i 2 \n",
      "tes1 print the value of x 20 and print the value of i 2 \n",
      "tes1 print the value of x 5 and print the value of i 2 \n",
      "tes1 print the value of x 10 and print the value of i 3 tes1 print the value of x 100 and print the value of i 3 \n",
      "\n",
      "tes1 print the value of x 20 and print the value of i 3 \n",
      "tes1 print the value of x 5 and print the value of i 3 \n",
      "tes1 print the value of x 100 and print the value of i 4 tes1 print the value of x 10 and print the value of i 4 \n",
      "\n",
      "tes1 print the value of x 20 and print the value of i 4 \n",
      "tes1 print the value of x 5 and print the value of i 4 \n",
      "tes1 print the value of x 10 and print the value of i 5 tes1 print the value of x 100 and print the value of i 5 \n",
      "\n",
      "tes1 print the value of x 20 and print the value of i 5 \n",
      "tes1 print the value of x 5 and print the value of i 5 \n",
      "tes1 print the value of x 100 and print the value of i 6 tes1 print the value of x 10 and print the value of i 6 \n",
      "\n",
      "tes1 print the value of x 20 and print the value of i 6 \n",
      "tes1 print the value of x 5 and print the value of i 6 \n",
      "tes1 print the value of x 10 and print the value of i 7 tes1 print the value of x 100 and print the value of i 7 \n",
      "\n",
      "tes1 print the value of x 5 and print the value of i 7 \n",
      "tes1 print the value of x 20 and print the value of i 7 \n",
      "tes1 print the value of x 100 and print the value of i 8 \n",
      "tes1 print the value of x 10 and print the value of i 8 \n",
      "tes1 print the value of x 5 and print the value of i 8 \n",
      "tes1 print the value of x 20 and print the value of i 8 \n",
      "tes1 print the value of x 100 and print the value of i 9 \n",
      "tes1 print the value of x 10 and print the value of i 9 \n",
      "tes1 print the value of x 5 and print the value of i 9 \n",
      "tes1 print the value of x 20 and print the value of i 9 \n"
     ]
    }
   ],
   "source": [
    "for t in thread2:\n",
    "    t.start()\n",
    "    "
   ]
  },
  {
   "cell_type": "code",
   "execution_count": 38,
   "id": "e5743689-0323-4b87-85ba-d9a16d0bf315",
   "metadata": {},
   "outputs": [
    {
     "name": "stdout",
     "output_type": "stream",
     "text": [
      "Value of x 1 and value of shared_var 1\n",
      "Value of x 2 and value of shared_var 2\n",
      "Value of x 3 and value of shared_var 3\n",
      "Value of x 4 and value of shared_var 4\n",
      "Value of x 4 and value of shared_var 5\n",
      "Value of x 5 and value of shared_var 6\n"
     ]
    }
   ],
   "source": [
    "#How to use shared resources\n",
    "shared_var=0\n",
    "lock_var = threading.Lock()\n",
    "def test41(x):\n",
    "    global shared_var\n",
    "    with lock_var:# It signifies, until it is bieng u\n",
    "        shared_var = shared_var + 1\n",
    "        print(\"Value of x %d and value of shared_var %d\" %(x,shared_var))\n",
    "        time.sleep(1)\n",
    "\n",
    "thread5 = [threading.Thread(target= test41, args = (i,)) for i in [1,2,3,4,4,5] ]\n",
    "\n",
    "for t in thread5:\n",
    "    t.start()\n",
    "        "
   ]
  },
  {
   "cell_type": "code",
   "execution_count": 39,
   "id": "f70e36b7-e0bb-4c81-b5b2-deb6b5282749",
   "metadata": {},
   "outputs": [
    {
     "name": "stdout",
     "output_type": "stream",
     "text": [
      "Value of x 2 and value of shared_var 7\n"
     ]
    }
   ],
   "source": [
    "test41(2)"
   ]
  },
  {
   "cell_type": "code",
   "execution_count": 40,
   "id": "c4334af4-ad2e-4cc0-96eb-8674dd40810d",
   "metadata": {},
   "outputs": [
    {
     "name": "stdout",
     "output_type": "stream",
     "text": [
      "Value of x 7 and value of shared_var 8\n"
     ]
    }
   ],
   "source": [
    "test41(7)"
   ]
  },
  {
   "cell_type": "markdown",
   "id": "b82ac05f-1cf7-4749-abeb-41dff18c9e78",
   "metadata": {},
   "source": [
    "SO here we can say that shared value is shared everytime separately exceuted"
   ]
  }
 ],
 "metadata": {
  "kernelspec": {
   "display_name": "Python 3 (ipykernel)",
   "language": "python",
   "name": "python3"
  },
  "language_info": {
   "codemirror_mode": {
    "name": "ipython",
    "version": 3
   },
   "file_extension": ".py",
   "mimetype": "text/x-python",
   "name": "python",
   "nbconvert_exporter": "python",
   "pygments_lexer": "ipython3",
   "version": "3.10.8"
  }
 },
 "nbformat": 4,
 "nbformat_minor": 5
}
